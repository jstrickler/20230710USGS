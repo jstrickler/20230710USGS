{
 "cells": [
  {
   "cell_type": "markdown",
   "metadata": {},
   "source": [
    "<img src=\"images/jupiter.png\" width=\"200\" height=\"200\"/>"
   ]
  },
  {
   "cell_type": "markdown",
   "metadata": {},
   "source": [
    "# Using Jupyter"
   ]
  },
  {
   "cell_type": "markdown",
   "metadata": {},
   "source": [
    "## Markdown cells\n",
    "\n",
    "This is a Markdown (documentation) cell, for adding documentation and comments to a notebook. It uses Markdown, a text styling language, as well as HTML. When a Markdown cell is \"run\", it converts the contents of the cell into HTML, which is then rendered and displayed.\n",
    "\n",
    "Double-click on a Markdown cell to see its source.\n",
    "\n",
    "This is **more** _markdown_. Surround text with double asterisk for bold, or single underline for italic. \n",
    "\n",
    "See the Notebook named **JupyterMarkdownGuide** for details. "
   ]
  },
  {
   "cell_type": "markdown",
   "metadata": {},
   "source": [
    "## Code Cells\n",
    "\n",
    "Code cells contain Python (or other language) code. When a code cell is run, it executes the code, and shows the output below the cell. The output is retained unless you explicitly clear it. "
   ]
  },
  {
   "cell_type": "code",
<<<<<<< HEAD
   "execution_count": null,
   "metadata": {},
   "outputs": [],
=======
   "execution_count": 1,
   "metadata": {},
   "outputs": [
    {
     "name": "stdout",
     "output_type": "stream",
     "text": [
      "0\n",
      "1\n",
      "2\n"
     ]
    }
   ],
>>>>>>> 3c7dd97b72ef11fa95131403a1aac71a96e58d22
   "source": [
    "x = 3\n",
    "for i in range(3):\n",
    "    print(i)"
   ]
  },
  {
   "cell_type": "code",
<<<<<<< HEAD
   "execution_count": null,
   "metadata": {},
   "outputs": [],
=======
   "execution_count": 3,
   "metadata": {},
   "outputs": [
    {
     "name": "stdout",
     "output_type": "stream",
     "text": [
      "wombat\n"
     ]
    }
   ],
>>>>>>> 3c7dd97b72ef11fa95131403a1aac71a96e58d22
   "source": [
    "print(\"wombat\")"
   ]
  },
  {
   "cell_type": "code",
   "execution_count": null,
   "metadata": {},
   "outputs": [],
   "source": []
  },
  {
   "cell_type": "code",
   "execution_count": null,
   "metadata": {},
   "outputs": [],
   "source": []
  },
  {
   "cell_type": "markdown",
   "metadata": {},
   "source": [
    "## It's all one program\n",
    "\n",
    "All code is run in the same instance of the Python interpreter, so that objects created in one cell are available to other cells, as long as the first cell has been run."
   ]
  },
  {
   "cell_type": "code",
   "execution_count": null,
   "metadata": {},
   "outputs": [],
   "source": [
    "from datetime import date as Date"
   ]
  },
  {
   "cell_type": "code",
   "execution_count": null,
   "metadata": {},
   "outputs": [],
   "source": [
    "then = Date(2011,5,22)"
   ]
  },
  {
   "cell_type": "code",
   "execution_count": null,
   "metadata": {},
   "outputs": [],
   "source": [
    "print(then.year)"
   ]
  },
  {
   "cell_type": "code",
   "execution_count": null,
   "metadata": {},
   "outputs": [],
   "source": [
    "%pinfo then"
   ]
  },
  {
   "cell_type": "markdown",
   "metadata": {},
   "source": [
    "## Getting help\n",
    "Putting a ? before (or after) any object displays help for that object. Using ?? will add more detailed help, if available. (The output will be in a separate pane at the bottom of the browser window)."
   ]
  },
  {
   "cell_type": "code",
   "execution_count": null,
   "metadata": {},
   "outputs": [],
   "source": [
    "i?"
   ]
  },
  {
   "cell_type": "code",
   "execution_count": null,
   "metadata": {},
   "outputs": [],
   "source": [
    "Date??"
   ]
  },
  {
   "cell_type": "markdown",
   "metadata": {
    "collapsed": true
   },
   "source": [
    "## Using Python's scientific libraries\n",
    "For typical use of Python's scientific libraries, put the following at the top of the notebook in a code cell:\n",
    "\n",
    "<pre>\n",
    "import pandas as pd\n",
    "import numpy as np\n",
    "import matplotlib.pyplot as plt\n",
    "</pre>\n",
    "\n",
    "Other  modules and packages should be included as needed.\n"
   ]
  },
  {
   "cell_type": "code",
<<<<<<< HEAD
   "execution_count": null,
=======
   "execution_count": 4,
>>>>>>> 3c7dd97b72ef11fa95131403a1aac71a96e58d22
   "metadata": {},
   "outputs": [],
   "source": [
    "import pandas as pd\n",
    "import scipy as sp\n",
    "import numpy as np\n",
    "import matplotlib.pyplot as plt\n"
   ]
  },
  {
   "cell_type": "markdown",
   "metadata": {},
   "source": [
    "## Inline plotting\n",
    "After matplotlib is imported, use the **%matplotlib inline** magic to display figures as part of the notebook. Otherwise, they are displayed in popup windows. "
   ]
  },
  {
   "cell_type": "code",
<<<<<<< HEAD
   "execution_count": null,
   "metadata": {},
   "outputs": [],
=======
   "execution_count": 5,
   "metadata": {},
   "outputs": [
    {
     "data": {
      "text/plain": [
       "[<matplotlib.lines.Line2D at 0x7f9fa09676d0>]"
      ]
     },
     "execution_count": 5,
     "metadata": {},
     "output_type": "execute_result"
    },
    {
     "data": {
      "image/png": "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\n",
      "text/plain": [
       "<Figure size 432x288 with 1 Axes>"
      ]
     },
     "metadata": {
      "needs_background": "light"
     },
     "output_type": "display_data"
    }
   ],
>>>>>>> 3c7dd97b72ef11fa95131403a1aac71a96e58d22
   "source": [
    "%matplotlib inline\n",
    "values = np.random.randint(1, 100, 50)\n",
    "plt.plot(values)"
   ]
  },
  {
   "cell_type": "markdown",
   "metadata": {},
   "source": [
    "## Using HTML\n",
    "\n",
    "Since Markdown is converted to HTML, any actual HTML in a Markdown cell is used. \n",
    "\n",
    "<ul><li>red</li><li>purple</li><li>orange</li></ul>"
   ]
  },
  {
   "cell_type": "markdown",
   "metadata": {},
   "source": [
    "## Magics\n",
    "\n",
    "iPython and Jupyter notebooks have _line magics_, which are line-oriented. Many of them execute commands or turn iPython settings on and off. \n",
    "\n",
    "Jupyter has _cell magics_, which apply to the entire cell. "
   ]
  },
  {
   "cell_type": "code",
   "execution_count": null,
   "metadata": {},
   "outputs": [],
   "source": [
    "%lsmagic"
   ]
  },
  {
   "cell_type": "code",
   "execution_count": null,
<<<<<<< HEAD
   "metadata": {},
   "outputs": [],
   "source": [
    "!hostname\n",
    "h = !hostname\n",
    "print(h)"
=======
   "metadata": {},
   "outputs": [],
   "source": [
    "!hostname\n",
    "h = !hostname\n",
    "print(h)"
   ]
  },
  {
   "cell_type": "markdown",
   "metadata": {},
   "source": [
    "## Running external Python scripts\n",
    "\n",
    "Use the **%run** magic to launch an external Python script"
   ]
  },
  {
   "cell_type": "code",
   "execution_count": 7,
   "metadata": {},
   "outputs": [],
   "source": [
    "%run ../EXAMPLES/my_vars.py"
   ]
  },
  {
   "cell_type": "code",
   "execution_count": 8,
   "metadata": {},
   "outputs": [
    {
     "name": "stdout",
     "output_type": "stream",
     "text": [
      "Susan\n",
      "wombat\n",
      "Eastern Racer\n"
     ]
    }
   ],
   "source": [
    "print(user_name)\n",
    "print(animal)\n",
    "print(snake)"
>>>>>>> 3c7dd97b72ef11fa95131403a1aac71a96e58d22
   ]
  },
  {
   "cell_type": "markdown",
   "metadata": {},
   "source": [
    "## Loading scripts into cells\n",
    "\n",
    "Use the **%load** magic to read a separate Python script into the current cell. After it's loaded, it can be run like any other cell.\n",
    "\n",
    "Once the code is loaded into the cell, the **%load** command is commented out"
   ]
  },
  {
   "cell_type": "code",
<<<<<<< HEAD
   "execution_count": null,
   "metadata": {},
   "outputs": [],
   "source": [
    "%run ../EXAMPLES/my_vars.py"
   ]
  },
  {
   "cell_type": "code",
   "execution_count": null,
   "metadata": {},
   "outputs": [],
   "source": [
    "print(user_name)\n",
    "print(animal)\n",
    "print(snake)"
   ]
  },
  {
   "cell_type": "markdown",
   "metadata": {},
   "source": [
    "## Loading scripts into cells\n",
    "\n",
    "Use the **%load** magic to read a separate Python script into the current cell. After it's loaded, it can be run like any other cell.\n",
    "\n",
    "Once the code is loaded into the cell, the **%load** command is commented out"
   ]
  },
  {
   "cell_type": "code",
   "execution_count": null,
   "metadata": {},
   "outputs": [],
=======
   "execution_count": 10,
   "metadata": {},
   "outputs": [
    {
     "name": "stdout",
     "output_type": "stream",
     "text": [
      "           The Tyger\n",
      "\n",
      "Tyger! Tyger! burning bright\n",
      "In the forests of the night,\n",
      "What immortal hand or eye\n",
      "Could frame thy fearful symmetry?\n",
      "\n",
      "In what distant deeps or skies\n",
      "Burnt the fire of thine eyes?\n",
      "On what wings dare he aspire?\n",
      "What the hand dare seize the fire?\n",
      "\n",
      "And what shoulder, & what art,\n",
      "Could twist the sinews of thy heart?\n",
      "And when thy heart began to beat,\n",
      "What dread hand? & what dread feet?\n",
      "\n",
      "What the hammer? what the chain?\n",
      "In what furnace was thy brain?\n",
      "What the anvil? what dread grasp\n",
      "Dare its deadly terrors clasp?\n",
      "\n",
      "When the stars threw down their spears\n",
      "And water'd heaven with their tears,\n",
      "Did he smile his work to see?\n",
      "Did he who made the Lamb make thee?\n",
      "\n",
      "Tyger! Tyger! burning bright\n",
      "In the forests of the night,\n",
      "What immortal hand or eye\n",
      "Dare frame thy fearful symmetry?\n",
      "\n",
      "                    by William Blake\n"
     ]
    }
   ],
>>>>>>> 3c7dd97b72ef11fa95131403a1aac71a96e58d22
   "source": [
    "%load ../EXAMPLES/read_tyger.py"
   ]
  },
  {
   "cell_type": "code",
   "execution_count": null,
   "metadata": {},
   "outputs": [],
   "source": [
    "%load imports.py"
   ]
  },
  {
   "cell_type": "markdown",
   "metadata": {},
   "source": [
    "## Using LaTeX\n",
    "\n",
    "Markdown cells can render LaTeX via MathJax. Put the LaTeX code inside a pair of dollar signs: **\\$\\rho\\$:**\n",
    "\n",
    "$\\rho$, $\\rho$, $\\rho$ your boat"
   ]
  },
  {
   "cell_type": "markdown",
   "metadata": {},
   "source": [
    "$\\mathbf{V}_1 \\times \\mathbf{V}_2 =  \\begin{vmatrix} \\\n",
    "\\mathbf{i} & \\mathbf{j} & \\mathbf{k}  \\\\\n",
    "\\frac{\\partial X}{\\partial u} & \\frac{\\partial Y}{\\partial u} & 0\\\\\n",
    "\\frac{\\partial X}{\\partial v} & \\frac{\\partial Y}{\\partial v} & 0\\\\\n",
    "\\end{vmatrix}$ \n",
    "\n",
    "$\\left( \\sum_{k=1}^n a_k b_k \\right)^2 \\leq \\left( \\sum_{k=1}^n a_k^2 \\right) \\left( \\sum_{k=1}^n b_k^2 \\right)$"
   ]
  },
  {
   "cell_type": "markdown",
   "metadata": {},
   "source": [
    "### Can you read this limerick?"
   ]
  },
  {
   "cell_type": "markdown",
   "metadata": {},
   "source": [
    "\n",
    "$\\frac{12 + 144  + 20 + 3\\sqrt{4}}{7} + (5 * 11) = 9^2 + 0$ <br/>\n",
    "\n",
    "<i>See text of limerick at the bottom of this notebook</i>\n",
    "\n"
   ]
  },
  {
   "cell_type": "markdown",
   "metadata": {},
   "source": [
    "## Getting info"
   ]
  },
  {
   "cell_type": "code",
   "execution_count": null,
   "metadata": {},
   "outputs": [],
   "source": [
    "from scipy import stats\n",
    "sp.info(stats)"
   ]
  },
  {
   "cell_type": "markdown",
   "metadata": {},
   "source": [
    "## Benchmarking\n",
    "\n",
    "The **%%timeit** cell magic will execute the code in the cell and report the average time it took to execute it. "
   ]
  },
  {
   "cell_type": "code",
   "execution_count": null,
   "metadata": {},
   "outputs": [],
   "source": [
    "fruits = [\"pomegranate\", \"cherry\", \"apricot\", \"date\", \"Apple\",\n",
    "\"lemon\", \"Kiwi\", \"ORANGE\", \"lime\", \"Watermelon\", \"guava\",\n",
    "\"Papaya\", \"FIG\", \"pear\", \"banana\", \"Tamarind\", \"Persimmon\",\n",
    "\"elderberry\", \"peach\", \"BLUEberry\", \"lychee\", \"GRAPE\" ]\n"
   ]
  },
  {
   "cell_type": "markdown",
   "metadata": {},
   "source": [
    "#### Benchmark with *for* loop"
   ]
  },
  {
   "cell_type": "code",
   "execution_count": null,
   "metadata": {},
   "outputs": [],
   "source": [
    "%%timeit\n",
    "f1 = []\n",
    "for f in fruits:\n",
    "    f1.append(f[:3])"
   ]
  },
  {
   "cell_type": "markdown",
   "metadata": {},
   "source": [
    "#### Benchmark with list comprehension"
   ]
  },
  {
   "cell_type": "code",
   "execution_count": null,
   "metadata": {},
   "outputs": [],
   "source": [
    "%%timeit 100\n",
    "f2 = [f[:3] for f in fruits]"
   ]
  },
  {
   "cell_type": "markdown",
   "metadata": {
    "collapsed": true
   },
   "source": [
    "## Images\n",
    "\n",
    "You can insert images into doc cells using the Markdown image tag:\n",
    "\n",
    "_The following uses a Markdown table to arrange the images._ \n",
    "\n",
    "| Guido        | Tim          | Wombat  |\n",
    "| ------------- |:-------------:| -----:|\n",
    "| ![Guido](images/guido.png)|  ![Tim](images/tim.jpg) |![wombat](images/wombat.jpg) |\n"
   ]
  },
  {
   "cell_type": "markdown",
   "metadata": {
    "collapsed": true
   },
   "source": [
    "### The limerick\n",
    "\n",
    "A dozen, a gross, and a score<br/>\n",
    "Plus three times the square root of four<br/>\n",
    "Divided by seven<br/>\n",
    "Plus five times eleven<br/>\n",
    "Is nine squared and not a bit more.<br/>\n"
   ]
  },
  {
   "cell_type": "code",
   "execution_count": null,
   "metadata": {},
   "outputs": [],
   "source": []
  }
 ],
 "metadata": {
  "kernelspec": {
   "display_name": "Python 3 (ipykernel)",
   "language": "python",
   "name": "python3"
  },
  "language_info": {
   "codemirror_mode": {
    "name": "ipython",
    "version": 3
   },
   "file_extension": ".py",
   "mimetype": "text/x-python",
   "name": "python",
   "nbconvert_exporter": "python",
   "pygments_lexer": "ipython3",
<<<<<<< HEAD
   "version": "3.9.12"
=======
   "version": "3.7.6"
>>>>>>> 3c7dd97b72ef11fa95131403a1aac71a96e58d22
  }
 },
 "nbformat": 4,
 "nbformat_minor": 1
}
