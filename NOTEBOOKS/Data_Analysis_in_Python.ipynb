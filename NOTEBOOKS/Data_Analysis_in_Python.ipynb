{
 "cells": [
  {
   "cell_type": "markdown",
   "metadata": {},
   "source": [
    "## Statistical Analysis in Python\n",
    "\n",
    "In this section, we introduce a few useful methods for analyzing your data in Python.\n",
    "Namely, we cover how to compute the mean, variance, and standard error of a data set.\n",
    "For more advanced statistical analysis, we cover how to perform a\n",
    "Mann-Whitney-Wilcoxon (MWW) RankSum test, how to perform an Analysis of variance (ANOVA)\n",
    "between multiple data sets, and how to compute bootstrapped 95% confidence intervals for\n",
    "non-normally distributed data sets.\n",
    "\n",
    "### Python's SciPy Module\n",
    "\n",
    "The majority of data analysis in Python can be performed with the SciPy module. SciPy\n",
    "provides a plethora of statistical functions and tests that will handle the majority of\n",
    "your analytical needs. If we don't cover a statistical function or test that you require\n",
    "for your research, SciPy's full statistical library is described in detail at:\n",
    "http://docs.scipy.org/doc/scipy/reference/tutorial/stats.html\n",
    "\n",
    "### Python's pandas Module\n",
    "\n",
    "The pandas module provides powerful, efficient, R-like DataFrame objects capable of\n",
    "calculating statistics en masse on the entire DataFrame. DataFrames are useful for when\n",
    "you need to compute statistics over multiple replicate runs.\n",
    "\n",
    "For the purposes of this tutorial, we will use Luis Zaman's parasite data set (available from https://raw.github.com/briandconnelly/BEACONToolkit/master/analysis/data/parasite_data.csv):"
   ]
  },
  {
   "cell_type": "code",
   "execution_count": 1,
   "metadata": {},
   "outputs": [
    {
     "name": "stdout",
     "output_type": "stream",
     "text": [
      "     Virulence  Replicate  ShannonDiversity\n",
      "0          0.5          1          0.059262\n",
      "1          0.5          2          1.093600\n",
      "2          0.5          3          1.139390\n",
      "3          0.5          4          0.547651\n",
      "4          0.5          5          0.065928\n",
      "5          0.5          6          1.344330\n",
      "6          0.5          7          1.680480\n",
      "7          0.5          8          0.000000\n",
      "8          0.5          9          2.047680\n",
      "9          0.5         10          0.000000\n",
      "10         0.5         11          1.507140\n",
      "11         0.5         12          0.000000\n",
      "12         0.5         13          1.589810\n",
      "13         0.5         14          1.144800\n",
      "14         0.5         15          1.011190\n",
      "15         0.5         16          0.000000\n",
      "16         0.5         17          0.776665\n",
      "17         0.5         18          0.001749\n",
      "18         0.5         19          1.761200\n",
      "19         0.5         20          0.021091\n",
      "20         0.5         21          0.790915\n",
      "21         0.5         22          0.000000\n",
      "22         0.5         23          0.018866\n",
      "23         0.5         24          0.994268\n",
      "24         0.5         25          1.729620\n",
      "25         0.5         26          0.967537\n",
      "26         0.5         27          0.457318\n",
      "27         0.5         28          0.992525\n",
      "28         0.5         29          1.506640\n",
      "29         0.5         30          0.697241\n",
      "..         ...        ...               ...\n",
      "320        NaN         21          0.000000\n",
      "321        NaN         22          0.000000\n",
      "322        NaN         23          0.000000\n",
      "323        NaN         24          0.000000\n",
      "324        NaN         25          0.000000\n",
      "325        NaN         26          0.000000\n",
      "326        NaN         27          1.702720\n",
      "327        NaN         28          0.169556\n",
      "328        NaN         29          0.949750\n",
      "329        NaN         30          0.240084\n",
      "330        NaN         31          0.925913\n",
      "331        NaN         32          0.000000\n",
      "332        NaN         33          0.693356\n",
      "333        NaN         34          0.000000\n",
      "334        NaN         35          0.310170\n",
      "335        NaN         36          0.000000\n",
      "336        NaN         37          0.000000\n",
      "337        NaN         38          0.000000\n",
      "338        NaN         39          0.000000\n",
      "339        NaN         40          0.000000\n",
      "340        NaN         41          0.000000\n",
      "341        NaN         42          0.000000\n",
      "342        NaN         43          0.000000\n",
      "343        NaN         44          0.000000\n",
      "344        NaN         45          0.391061\n",
      "345        NaN         46          0.001669\n",
      "346        NaN         47          0.000000\n",
      "347        NaN         48          0.444463\n",
      "348        NaN         49          0.383512\n",
      "349        NaN         50          0.511329\n",
      "\n",
      "[350 rows x 3 columns]\n"
     ]
    }
   ],
   "source": [
    "from pandas import *\n",
    "\n",
    "# must specify that blank space \" \" is NaN\n",
    "experimentDF = read_csv(\"../DATA/parasite_data.csv\", na_values=[\" \"])\n",
    "\n",
    "print(experimentDF)"
   ]
  },
  {
   "cell_type": "markdown",
   "metadata": {},
   "source": [
    "### Accessing data in pandas DataFrames\n",
    "\n",
    "You can directly access any column and row by indexing the DataFrame."
   ]
  },
  {
   "cell_type": "code",
   "execution_count": 2,
   "metadata": {},
   "outputs": [
    {
     "name": "stdout",
     "output_type": "stream",
     "text": [
      "0      0.5\n",
      "1      0.5\n",
      "2      0.5\n",
      "3      0.5\n",
      "4      0.5\n",
      "5      0.5\n",
      "6      0.5\n",
      "7      0.5\n",
      "8      0.5\n",
      "9      0.5\n",
      "10     0.5\n",
      "11     0.5\n",
      "12     0.5\n",
      "13     0.5\n",
      "14     0.5\n",
      "15     0.5\n",
      "16     0.5\n",
      "17     0.5\n",
      "18     0.5\n",
      "19     0.5\n",
      "20     0.5\n",
      "21     0.5\n",
      "22     0.5\n",
      "23     0.5\n",
      "24     0.5\n",
      "25     0.5\n",
      "26     0.5\n",
      "27     0.5\n",
      "28     0.5\n",
      "29     0.5\n",
      "      ... \n",
      "320    NaN\n",
      "321    NaN\n",
      "322    NaN\n",
      "323    NaN\n",
      "324    NaN\n",
      "325    NaN\n",
      "326    NaN\n",
      "327    NaN\n",
      "328    NaN\n",
      "329    NaN\n",
      "330    NaN\n",
      "331    NaN\n",
      "332    NaN\n",
      "333    NaN\n",
      "334    NaN\n",
      "335    NaN\n",
      "336    NaN\n",
      "337    NaN\n",
      "338    NaN\n",
      "339    NaN\n",
      "340    NaN\n",
      "341    NaN\n",
      "342    NaN\n",
      "343    NaN\n",
      "344    NaN\n",
      "345    NaN\n",
      "346    NaN\n",
      "347    NaN\n",
      "348    NaN\n",
      "349    NaN\n",
      "Name: Virulence, dtype: float64\n"
     ]
    }
   ],
   "source": [
    "# show all entries in the Virulence column\n",
    "print(experimentDF[\"Virulence\"])"
   ]
  },
  {
   "cell_type": "code",
   "execution_count": 3,
   "metadata": {},
   "outputs": [
    {
     "name": "stdout",
     "output_type": "stream",
     "text": [
      "1.58981\n"
     ]
    }
   ],
   "source": [
    "# show the 12th row in the ShannonDiversity column\n",
    "print(experimentDF[\"ShannonDiversity\"][12])"
   ]
  },
  {
   "cell_type": "markdown",
   "metadata": {},
   "source": [
    "You can also access all of the values in a column meeting a certain criteria."
   ]
  },
  {
   "cell_type": "code",
   "execution_count": 4,
   "metadata": {},
   "outputs": [
    {
     "name": "stdout",
     "output_type": "stream",
     "text": [
      "     Virulence  Replicate  ShannonDiversity\n",
      "8          0.5          9           2.04768\n",
      "89         0.6         40           2.01066\n",
      "92         0.6         43           2.90081\n",
      "96         0.6         47           2.02915\n",
      "105        0.7          6           2.23427\n",
      "117        0.7         18           2.14296\n",
      "127        0.7         28           2.23599\n",
      "129        0.7         30           2.48422\n",
      "133        0.7         34           2.18506\n",
      "134        0.7         35           2.42177\n",
      "139        0.7         40           2.25737\n",
      "142        0.7         43           2.07258\n",
      "148        0.7         49           2.38326\n",
      "151        0.8          2           2.07970\n",
      "153        0.8          4           2.38474\n",
      "163        0.8         14           2.03252\n",
      "165        0.8         16           2.38415\n",
      "170        0.8         21           2.02297\n",
      "172        0.8         23           2.13882\n",
      "173        0.8         24           2.53339\n",
      "182        0.8         33           2.17865\n",
      "196        0.8         47           2.07718\n",
      "208        0.9          9           2.12240\n",
      "209        0.9         10           2.46144\n",
      "212        0.9         13           2.20476\n",
      "229        0.9         30           2.28026\n",
      "235        0.9         36           2.19565\n",
      "237        0.9         38           2.16535\n",
      "243        0.9         44           2.17578\n",
      "251        1.0          2           2.16044\n"
     ]
    }
   ],
   "source": [
    "# show all entries in the ShannonDiversity column > 2.0\n",
    "print(experimentDF[experimentDF[\"ShannonDiversity\"] > 2.0])"
   ]
  },
  {
   "cell_type": "markdown",
   "metadata": {},
   "source": [
    "### Blank/omitted data (NA or NaN) in pandas DataFrames\n",
    "\n",
    "Blank/omitted data is a piece of cake to handle in pandas. Here's an example data\n",
    "set with NA/NaN values."
   ]
  },
  {
   "cell_type": "code",
   "execution_count": 5,
   "metadata": {},
   "outputs": [
    {
     "name": "stdout",
     "output_type": "stream",
     "text": [
      "     Virulence  Replicate  ShannonDiversity\n",
      "0          0.5          1          0.059262\n",
      "1          0.5          2          1.093600\n",
      "2          0.5          3          1.139390\n",
      "3          0.5          4          0.547651\n",
      "4          0.5          5          0.065928\n",
      "5          0.5          6          1.344330\n",
      "6          0.5          7          1.680480\n",
      "7          0.5          8          0.000000\n",
      "8          0.5          9          2.047680\n",
      "9          0.5         10          0.000000\n",
      "10         0.5         11          1.507140\n",
      "11         0.5         12          0.000000\n",
      "12         0.5         13          1.589810\n",
      "13         0.5         14          1.144800\n",
      "14         0.5         15          1.011190\n",
      "15         0.5         16          0.000000\n",
      "16         0.5         17          0.776665\n",
      "17         0.5         18          0.001749\n",
      "18         0.5         19          1.761200\n",
      "19         0.5         20          0.021091\n",
      "20         0.5         21          0.790915\n",
      "21         0.5         22          0.000000\n",
      "22         0.5         23          0.018866\n",
      "23         0.5         24          0.994268\n",
      "24         0.5         25          1.729620\n",
      "25         0.5         26          0.967537\n",
      "26         0.5         27          0.457318\n",
      "27         0.5         28          0.992525\n",
      "28         0.5         29          1.506640\n",
      "29         0.5         30          0.697241\n",
      "..         ...        ...               ...\n",
      "270        1.0         21          0.000000\n",
      "271        1.0         22          0.000000\n",
      "272        1.0         23          0.000000\n",
      "273        1.0         24          0.000000\n",
      "274        1.0         25          0.000000\n",
      "275        1.0         26          0.000000\n",
      "276        1.0         27          0.000000\n",
      "277        1.0         28          0.000000\n",
      "278        1.0         29          0.460192\n",
      "279        1.0         30          0.909254\n",
      "280        1.0         31          0.971351\n",
      "281        1.0         32          0.000000\n",
      "282        1.0         33          0.887569\n",
      "283        1.0         34          0.000000\n",
      "284        1.0         35          0.000000\n",
      "285        1.0         36          0.000000\n",
      "286        1.0         37          0.000000\n",
      "287        1.0         38          0.000000\n",
      "288        1.0         39          0.000000\n",
      "289        1.0         40          1.514560\n",
      "290        1.0         41          0.000000\n",
      "291        1.0         42          0.000000\n",
      "292        1.0         43          0.000000\n",
      "293        1.0         44          0.716393\n",
      "294        1.0         45          0.000000\n",
      "295        1.0         46          0.644337\n",
      "296        1.0         47          0.875816\n",
      "297        1.0         48          0.000000\n",
      "298        1.0         49          0.000000\n",
      "299        1.0         50          0.000000\n",
      "\n",
      "[300 rows x 3 columns]\n"
     ]
    }
   ],
   "source": [
    "print(experimentDF[notnull(experimentDF[\"Virulence\"])])"
   ]
  },
  {
   "cell_type": "markdown",
   "metadata": {},
   "source": [
    "DataFrame methods automatically ignore NA/NaN values."
   ]
  },
  {
   "cell_type": "code",
   "execution_count": 6,
   "metadata": {},
   "outputs": [
    {
     "name": "stdout",
     "output_type": "stream",
     "text": [
      "Mean virulence across all treatments: 0.7500000000000013\n"
     ]
    }
   ],
   "source": [
    "print(\"Mean virulence across all treatments:\", experimentDF[\"Virulence\"].mean())"
   ]
  },
  {
   "cell_type": "markdown",
   "metadata": {},
   "source": [
    "However, not all methods in Python are guaranteed to handle NA/NaN values properly."
   ]
  },
  {
   "cell_type": "code",
   "execution_count": 7,
   "metadata": {},
   "outputs": [
    {
     "name": "stdout",
     "output_type": "stream",
     "text": [
      "Mean virulence across all treatments: nan\n"
     ]
    }
   ],
   "source": [
    "from scipy import stats\n",
    "\n",
    "print(\"Mean virulence across all treatments:\", stats.sem(experimentDF[\"Virulence\"]))"
   ]
  },
  {
   "cell_type": "markdown",
   "metadata": {},
   "source": [
    "Thus, it behooves you to take care of the NA/NaN values before performing your analysis. You can either:\n",
    "\n",
    "**(1) filter out all of the entries with NA/NaN**"
   ]
  },
  {
   "cell_type": "code",
   "execution_count": 8,
   "metadata": {},
   "outputs": [
    {
     "name": "stdout",
     "output_type": "stream",
     "text": [
      "     Virulence  Replicate  ShannonDiversity\n",
      "0          0.5          1          0.059262\n",
      "1          0.5          2          1.093600\n",
      "2          0.5          3          1.139390\n",
      "3          0.5          4          0.547651\n",
      "4          0.5          5          0.065928\n",
      "5          0.5          6          1.344330\n",
      "6          0.5          7          1.680480\n",
      "7          0.5          8          0.000000\n",
      "8          0.5          9          2.047680\n",
      "9          0.5         10          0.000000\n",
      "10         0.5         11          1.507140\n",
      "11         0.5         12          0.000000\n",
      "12         0.5         13          1.589810\n",
      "13         0.5         14          1.144800\n",
      "14         0.5         15          1.011190\n",
      "15         0.5         16          0.000000\n",
      "16         0.5         17          0.776665\n",
      "17         0.5         18          0.001749\n",
      "18         0.5         19          1.761200\n",
      "19         0.5         20          0.021091\n",
      "20         0.5         21          0.790915\n",
      "21         0.5         22          0.000000\n",
      "22         0.5         23          0.018866\n",
      "23         0.5         24          0.994268\n",
      "24         0.5         25          1.729620\n",
      "25         0.5         26          0.967537\n",
      "26         0.5         27          0.457318\n",
      "27         0.5         28          0.992525\n",
      "28         0.5         29          1.506640\n",
      "29         0.5         30          0.697241\n",
      "..         ...        ...               ...\n",
      "270        1.0         21          0.000000\n",
      "271        1.0         22          0.000000\n",
      "272        1.0         23          0.000000\n",
      "273        1.0         24          0.000000\n",
      "274        1.0         25          0.000000\n",
      "275        1.0         26          0.000000\n",
      "276        1.0         27          0.000000\n",
      "277        1.0         28          0.000000\n",
      "278        1.0         29          0.460192\n",
      "279        1.0         30          0.909254\n",
      "280        1.0         31          0.971351\n",
      "281        1.0         32          0.000000\n",
      "282        1.0         33          0.887569\n",
      "283        1.0         34          0.000000\n",
      "284        1.0         35          0.000000\n",
      "285        1.0         36          0.000000\n",
      "286        1.0         37          0.000000\n",
      "287        1.0         38          0.000000\n",
      "288        1.0         39          0.000000\n",
      "289        1.0         40          1.514560\n",
      "290        1.0         41          0.000000\n",
      "291        1.0         42          0.000000\n",
      "292        1.0         43          0.000000\n",
      "293        1.0         44          0.716393\n",
      "294        1.0         45          0.000000\n",
      "295        1.0         46          0.644337\n",
      "296        1.0         47          0.875816\n",
      "297        1.0         48          0.000000\n",
      "298        1.0         49          0.000000\n",
      "299        1.0         50          0.000000\n",
      "\n",
      "[300 rows x 3 columns]\n"
     ]
    }
   ],
   "source": [
    "# NOTE: this drops the entire row if any of its entries are NA/NaN!\n",
    "print(experimentDF.dropna())"
   ]
  },
  {
   "cell_type": "markdown",
   "metadata": {},
   "source": [
    "If you only care about NA/NaN values in a specific column, you can specify the\n",
    "column name first."
   ]
  },
  {
   "cell_type": "code",
   "execution_count": 9,
   "metadata": {},
   "outputs": [
    {
     "name": "stdout",
     "output_type": "stream",
     "text": [
      "0      0.5\n",
      "1      0.5\n",
      "2      0.5\n",
      "3      0.5\n",
      "4      0.5\n",
      "5      0.5\n",
      "6      0.5\n",
      "7      0.5\n",
      "8      0.5\n",
      "9      0.5\n",
      "10     0.5\n",
      "11     0.5\n",
      "12     0.5\n",
      "13     0.5\n",
      "14     0.5\n",
      "15     0.5\n",
      "16     0.5\n",
      "17     0.5\n",
      "18     0.5\n",
      "19     0.5\n",
      "20     0.5\n",
      "21     0.5\n",
      "22     0.5\n",
      "23     0.5\n",
      "24     0.5\n",
      "25     0.5\n",
      "26     0.5\n",
      "27     0.5\n",
      "28     0.5\n",
      "29     0.5\n",
      "      ... \n",
      "270    1.0\n",
      "271    1.0\n",
      "272    1.0\n",
      "273    1.0\n",
      "274    1.0\n",
      "275    1.0\n",
      "276    1.0\n",
      "277    1.0\n",
      "278    1.0\n",
      "279    1.0\n",
      "280    1.0\n",
      "281    1.0\n",
      "282    1.0\n",
      "283    1.0\n",
      "284    1.0\n",
      "285    1.0\n",
      "286    1.0\n",
      "287    1.0\n",
      "288    1.0\n",
      "289    1.0\n",
      "290    1.0\n",
      "291    1.0\n",
      "292    1.0\n",
      "293    1.0\n",
      "294    1.0\n",
      "295    1.0\n",
      "296    1.0\n",
      "297    1.0\n",
      "298    1.0\n",
      "299    1.0\n",
      "Name: Virulence, dtype: float64\n"
     ]
    }
   ],
   "source": [
    "print(experimentDF[\"Virulence\"].dropna())"
   ]
  },
  {
   "cell_type": "markdown",
   "metadata": {},
   "source": [
    "**(2) replace all of the NA/NaN entries with a valid value**"
   ]
  },
  {
   "cell_type": "code",
   "execution_count": 10,
   "metadata": {},
   "outputs": [
    {
     "name": "stdout",
     "output_type": "stream",
     "text": [
      "0      0.5\n",
      "1      0.5\n",
      "2      0.5\n",
      "3      0.5\n",
      "4      0.5\n",
      "5      0.5\n",
      "6      0.5\n",
      "7      0.5\n",
      "8      0.5\n",
      "9      0.5\n",
      "10     0.5\n",
      "11     0.5\n",
      "12     0.5\n",
      "13     0.5\n",
      "14     0.5\n",
      "15     0.5\n",
      "16     0.5\n",
      "17     0.5\n",
      "18     0.5\n",
      "19     0.5\n",
      "20     0.5\n",
      "21     0.5\n",
      "22     0.5\n",
      "23     0.5\n",
      "24     0.5\n",
      "25     0.5\n",
      "26     0.5\n",
      "27     0.5\n",
      "28     0.5\n",
      "29     0.5\n",
      "      ... \n",
      "320    0.0\n",
      "321    0.0\n",
      "322    0.0\n",
      "323    0.0\n",
      "324    0.0\n",
      "325    0.0\n",
      "326    0.0\n",
      "327    0.0\n",
      "328    0.0\n",
      "329    0.0\n",
      "330    0.0\n",
      "331    0.0\n",
      "332    0.0\n",
      "333    0.0\n",
      "334    0.0\n",
      "335    0.0\n",
      "336    0.0\n",
      "337    0.0\n",
      "338    0.0\n",
      "339    0.0\n",
      "340    0.0\n",
      "341    0.0\n",
      "342    0.0\n",
      "343    0.0\n",
      "344    0.0\n",
      "345    0.0\n",
      "346    0.0\n",
      "347    0.0\n",
      "348    0.0\n",
      "349    0.0\n",
      "Name: Virulence, dtype: float64\n"
     ]
    }
   ],
   "source": [
    "print(experimentDF.fillna(0.0)[\"Virulence\"])"
   ]
  },
  {
   "cell_type": "markdown",
   "metadata": {},
   "source": [
    "Take care when deciding what to do with NA/NaN entries. It can have a significant\n",
    "impact on your results!"
   ]
  },
  {
   "cell_type": "code",
   "execution_count": 11,
   "metadata": {},
   "outputs": [
    {
     "name": "stdout",
     "output_type": "stream",
     "text": [
      "Mean virulence across all treatments w/ dropped NaN: 0.7500000000000013\n",
      "Mean virulence across all treatments w/ filled NaN: 0.642857142857144\n"
     ]
    }
   ],
   "source": [
    "print(\"Mean virulence across all treatments w/ dropped NaN:\", experimentDF[\"Virulence\"].dropna().mean())\n",
    "\n",
    "print(\"Mean virulence across all treatments w/ filled NaN:\", experimentDF.fillna(0.0)[\"Virulence\"].mean())"
   ]
  },
  {
   "cell_type": "markdown",
   "metadata": {},
   "source": [
    "### Mean\n",
    "\n",
    "The mean performance of an experiment gives a good idea of how the experiment will\n",
    "turn out *on average* under a given treatment.\n",
    "\n",
    "Conveniently, DataFrames have all kinds of built-in functions to perform standard\n",
    "operations on them en masse: `add()`, `sub()`, `mul()`, `div()`, `mean()`, `std()`, etc.\n",
    "The full list is located at: http://pandas.sourceforge.net/generated/pandas.DataFrame.html\n",
    "\n",
    "Thus, computing the mean of a DataFrame only takes one line of code:"
   ]
  },
  {
   "cell_type": "code",
   "execution_count": 12,
   "metadata": {},
   "outputs": [
    {
     "name": "stdout",
     "output_type": "stream",
     "text": [
      "Mean Shannon Diversity w/ 0.8 Parasite Virulence = 1.2691338187999996\n"
     ]
    }
   ],
   "source": [
    "from pandas import *\n",
    "\n",
    "print(\"Mean Shannon Diversity w/ 0.8 Parasite Virulence =\", experimentDF[experimentDF[\"Virulence\"] == 0.8][\"ShannonDiversity\"].mean())"
   ]
  },
  {
   "cell_type": "markdown",
   "metadata": {},
   "source": [
    "### Variance\n",
    "\n",
    "The variance in the performance provides a measurement of how consistent the results\n",
    "of an experiment are. The lower the variance, the more consistent the results are, and\n",
    "vice versa.\n",
    "\n",
    "Computing the variance is also built in to pandas DataFrames:"
   ]
  },
  {
   "cell_type": "code",
   "execution_count": 13,
   "metadata": {},
   "outputs": [
    {
     "ename": "SyntaxError",
     "evalue": "invalid syntax (<ipython-input-13-9d187b3a8556>, line 3)",
     "output_type": "error",
     "traceback": [
      "\u001b[0;36m  File \u001b[0;32m\"<ipython-input-13-9d187b3a8556>\"\u001b[0;36m, line \u001b[0;32m3\u001b[0m\n\u001b[0;31m    print \"Variance in Shannon Diversity w/ 0.8 Parasite Virulence =\", experimentDF[experimentDF[\"Virulence\"] == 0.8][\"ShannonDiversity\"].var()\u001b[0m\n\u001b[0m                                                                    ^\u001b[0m\n\u001b[0;31mSyntaxError\u001b[0m\u001b[0;31m:\u001b[0m invalid syntax\n"
     ]
    }
   ],
   "source": [
    "from pandas import *\n",
    "\n",
    "print \"Variance in Shannon Diversity w/ 0.8 Parasite Virulence =\", experimentDF[experimentDF[\"Virulence\"] == 0.8][\"ShannonDiversity\"].var()"
   ]
  },
  {
   "cell_type": "markdown",
   "metadata": {},
   "source": [
    "### Standard Error of the Mean (SEM)\n",
    "\n",
    "Combined with the mean, the SEM enables you to establish a range around a mean that\n",
    "the majority of any future replicate experiments will most likely fall within.\n",
    "\n",
    "pandas DataFrames don't have methods like SEM built in, but since DataFrame\n",
    "rows/columns are treated as lists, you can use any NumPy/SciPy method you like on them."
   ]
  },
  {
   "cell_type": "code",
   "execution_count": null,
   "metadata": {
    "collapsed": true
   },
   "outputs": [],
   "source": [
    "from pandas import *\n",
    "from scipy import stats\n",
    "\n",
    "print(\"SEM of Shannon Diversity w/ 0.8 Parasite Virulence =\", stats.sem(experimentDF[experimentDF[\"Virulence\"] == 0.8][\"ShannonDiversity\"]))"
   ]
  },
  {
   "cell_type": "markdown",
   "metadata": {},
   "source": [
    "A single SEM will usually envelop 68% of the possible replicate means\n",
    "and two SEMs envelop 95% of the possible replicate means. Two\n",
    "SEMs are called the \"estimated 95% confidence interval.\" The confidence\n",
    "interval is estimated because the exact width depend on how many replicates\n",
    "you have; this approximation is good when you have more than 20 replicates.\n",
    "\n",
    "### Mann-Whitney-Wilcoxon (MWW) RankSum test\n",
    "\n",
    "The MWW RankSum test is a useful test to determine if two distributions are significantly\n",
    "different or not. Unlike the t-test, the RankSum test does not assume that the data\n",
    "are normally distributed, potentially providing a more accurate assessment of the data sets.\n",
    "\n",
    "As an example, let's say we want to determine if the results of the two following\n",
    "treatments significantly differ or not:"
   ]
  },
  {
   "cell_type": "code",
   "execution_count": null,
   "metadata": {
    "collapsed": true
   },
   "outputs": [],
   "source": [
    "# select two treatment data sets from the parasite data\n",
    "treatment1 = experimentDF[experimentDF[\"Virulence\"] == 0.5][\"ShannonDiversity\"]\n",
    "treatment2 = experimentDF[experimentDF[\"Virulence\"] == 0.8][\"ShannonDiversity\"]\n",
    "\n",
    "print(\"Data set 1:\\n\", treatment1)\n",
    "print(\"Data set 2:\\n\", treatment2)"
   ]
  },
  {
   "cell_type": "markdown",
   "metadata": {},
   "source": [
    "A RankSum test will provide a P value indicating whether or not the two\n",
    "distributions are the same."
   ]
  },
  {
   "cell_type": "code",
   "execution_count": null,
   "metadata": {
    "collapsed": true
   },
   "outputs": [],
   "source": [
    "from scipy import stats\n",
    "\n",
    "z_stat, p_val = stats.ranksums(treatment1, treatment2)\n",
    "\n",
    "print(\"MWW RankSum P for treatments 1 and 2 =\", p_val)"
   ]
  },
  {
   "cell_type": "markdown",
   "metadata": {},
   "source": [
    "If P <= 0.05, we are highly confident that the distributions significantly differ, and\n",
    "can claim that the treatments had a significant impact on the measured value.\n",
    "\n",
    "If the treatments do *not* significantly differ, we could expect a result such as\n",
    "the following:"
   ]
  },
  {
   "cell_type": "code",
   "execution_count": null,
   "metadata": {
    "collapsed": true
   },
   "outputs": [],
   "source": [
    "treatment3 = experimentDF[experimentDF[\"Virulence\"] == 0.8][\"ShannonDiversity\"]\n",
    "treatment4 = experimentDF[experimentDF[\"Virulence\"] == 0.9][\"ShannonDiversity\"]\n",
    "\n",
    "print(\"Data set 3:\\n\", treatment3)\n",
    "print(\"Data set 4:\\n\", treatment4)"
   ]
  },
  {
   "cell_type": "code",
   "execution_count": null,
   "metadata": {
    "collapsed": true
   },
   "outputs": [],
   "source": [
    "z_stat, p_val = stats.ranksums(treatment3, treatment4)\n",
    "\n",
    "print(\"MWW RankSum P for treatments 3 and 4 =\", p_val)"
   ]
  },
  {
   "cell_type": "markdown",
   "metadata": {},
   "source": [
    "With P > 0.05, we must say that the distributions do not significantly differ.\n",
    "Thus changing the parasite virulence between 0.8 and 0.9 does not result in a\n",
    "significant change in Shannon Diversity.\n",
    "\n",
    "### One-way analysis of variance (ANOVA)\n",
    "\n",
    "If you need to compare more than two data sets at a time, an ANOVA is your best bet. For\n",
    "example, we have the results from three experiments with overlapping 95% confidence\n",
    "intervals, and we want to confirm that the results for all three experiments are not\n",
    "significantly different."
   ]
  },
  {
   "cell_type": "code",
   "execution_count": null,
   "metadata": {
    "collapsed": true
   },
   "outputs": [],
   "source": [
    "treatment1 = experimentDF[experimentDF[\"Virulence\"] == 0.7][\"ShannonDiversity\"]\n",
    "treatment2 = experimentDF[experimentDF[\"Virulence\"] == 0.8][\"ShannonDiversity\"]\n",
    "treatment3 = experimentDF[experimentDF[\"Virulence\"] == 0.9][\"ShannonDiversity\"]\n",
    "\n",
    "print(\"Data set 1:\\n\", treatment1)\n",
    "print(\"Data set 2:\\n\", treatment2)\n",
    "print(\"Data set 3:\\n\", treatment3)"
   ]
  },
  {
   "cell_type": "code",
   "execution_count": null,
   "metadata": {
    "collapsed": true
   },
   "outputs": [],
   "source": [
    "from scipy import stats\n",
    "\t\n",
    "f_val, p_val = stats.f_oneway(treatment1, treatment2, treatment3)\n",
    "\n",
    "print(\"One-way ANOVA P =\", p_val)"
   ]
  },
  {
   "cell_type": "markdown",
   "metadata": {},
   "source": [
    "If P > 0.05, we can claim with high confidence that the means of the results of all three\n",
    "experiments are not significantly different.\n",
    "\n",
    "### Bootstrapped 95% confidence intervals\n",
    "\n",
    "Oftentimes in wet lab research, it's difficult to perform the 20 replicate runs\n",
    "recommended for computing reliable confidence intervals with SEM.\n",
    "\n",
    "In this case, bootstrapping the confidence intervals is a much more accurate method of\n",
    "determining the 95% confidence interval around your experiment's mean performance.\n",
    "\n",
    "Unfortunately, SciPy doesn't have bootstrapping built into its standard library yet.\n",
    "However, there is already a scikit out there for bootstrapping. Enter the following\n",
    "command to install it:\n",
    "\n",
    "> sudo pip install -e git+http://github.org/cgevans/scikits-bootstrap.git#egg=Package\n",
    "\n",
    "You may need to install `pip` first, e.g., for Mac:\n",
    "\n",
    "> sudo easy_install pip"
   ]
  },
  {
   "cell_type": "markdown",
   "metadata": {},
   "source": [
    "Bootstrapping 95% confidence intervals around the mean with this function is simple:"
   ]
  },
  {
   "cell_type": "code",
   "execution_count": null,
   "metadata": {
    "collapsed": true
   },
   "outputs": [],
   "source": [
    "# subset a list of 10 data points\n",
    "treatment1 = experimentDF[experimentDF[\"Virulence\"] == 0.8][\"ShannonDiversity\"][:10]\n",
    "\n",
    "print(\"Small data set:\\n\", treatment1)"
   ]
  },
  {
   "cell_type": "code",
   "execution_count": null,
   "metadata": {
    "collapsed": true
   },
   "outputs": [],
   "source": [
    "import scipy\n",
    "import scikits.bootstrap as bootstrap\n",
    "\n",
    "CIs = bootstrap.ci(data=treatment1, statfunction=scipy.mean)\n",
    "\n",
    "print(\"Bootstrapped 95% confidence intervals\\nLow:\", CIs[0], \"\\nHigh:\", CIs[1])"
   ]
  },
  {
   "cell_type": "markdown",
   "metadata": {},
   "source": [
    "Note that you can change the range of the confidence interval by setting the alpha:"
   ]
  },
  {
   "cell_type": "code",
   "execution_count": null,
   "metadata": {
    "collapsed": true
   },
   "outputs": [],
   "source": [
    "# 80% confidence interval\n",
    "CIs = bootstrap.ci(treatment1, scipy.mean, alpha=0.2)\n",
    "print(\"Bootstrapped 80% confidence interval\\nLow:\", CIs[0], \"\\nHigh:\", CIs[1])"
   ]
  },
  {
   "cell_type": "markdown",
   "metadata": {},
   "source": [
    "And also modify the size of the bootstrapped sample pool that the confidence intervals\n",
    "are taken from:"
   ]
  },
  {
   "cell_type": "code",
   "execution_count": null,
   "metadata": {
    "collapsed": true
   },
   "outputs": [],
   "source": [
    "# bootstrap 20,000 samples instead of only 10,000\n",
    "CIs = bootstrap.ci(treatment1, scipy.mean, n_samples=20000)\n",
    "print(\"Bootstrapped 95% confidence interval w/ 20,000 samples\\nLow:\", CIs[0], \"\\nHigh:\", CIs[1])"
   ]
  },
  {
   "cell_type": "markdown",
   "metadata": {},
   "source": [
    "Generally, bootstrapped 95% confidence intervals provide more accurate confidence\n",
    "intervals than 95% confidence intervals estimated from the SEM."
   ]
  },
  {
   "cell_type": "code",
   "execution_count": null,
   "metadata": {
    "collapsed": true
   },
   "outputs": [],
   "source": []
  }
 ],
 "metadata": {
  "kernelspec": {
   "display_name": "Python 3",
   "language": "python",
   "name": "python3"
  },
  "language_info": {
   "codemirror_mode": {
    "name": "ipython",
    "version": 3
   },
   "file_extension": ".py",
   "mimetype": "text/x-python",
   "name": "python",
   "nbconvert_exporter": "python",
   "pygments_lexer": "ipython3",
   "version": "3.7.6"
  }
 },
 "nbformat": 4,
 "nbformat_minor": 1
}
