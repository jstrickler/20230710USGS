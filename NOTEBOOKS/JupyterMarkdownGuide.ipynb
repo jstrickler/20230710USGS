{
 "cells": [
  {
   "cell_type": "markdown",
   "metadata": {},
   "source": [
    "# JupyterMarkdown Guide"
   ]
  },
  {
   "cell_type": "markdown",
   "metadata": {},
   "source": [
    "## About markdown\n",
    "**Markdown** is a format for doing simple text styling, supported in Jupyter's _Markdown_ cells. \n",
    "\n",
    "Markdown is plain text, not WYSIWYG. You add styling by using special characters around or in front of text. \n",
    "\n",
    "Markdown is translated into HTML, so any HTML in a Markdown cell is passed through to the browser. This is handy  for colored text and other features that Markdown doesn't support"
   ]
  },
  {
   "cell_type": "markdown",
   "metadata": {},
   "source": [
    "## Headings\n",
    "\n",
    "Precede heading text with from 1-6 pound signs, followed by a space:\n",
    "\n",
    "###### <font color=red>_RAW MARKDOWN_</font>\n",
    "\n",
    "```markdown\n",
    "### Third Level\n",
    "#### Fourth Level\n",
    "```\n",
    "###### <font color=red>_AS RENDERED_</font>\n",
    "\n",
    "### Third Level\n",
    "#### Fourth Level\n"
   ]
  },
  {
   "cell_type": "markdown",
   "metadata": {},
   "source": [
    "## Text styles\n",
    "\n",
    "###### <font color=red>_RAW MARKDOWN_</font>\n",
    "\n",
    "```\n",
    "**Bold is not for the timid**\n",
    "\n",
    "__This is also bold__\n",
    "\n",
    "Italic is for _emphasis_\n",
    "\n",
    "_Italic is for **emphasis**_\n",
    "\n",
    "Add <font color=green>colors</font> with <font color=\"purple\">HTML</font>\n",
    "```\n",
    "\n",
    "###### <font color=red>_AS RENDERED_</font>\n",
    "\n",
    "**Bold is not for the timid**\n",
    "\n",
    "__This is also bold__\n",
    "\n",
    "Italic is for _emphasis_\n",
    "\n",
    "_Italic is for **emphasis**_\n",
    "\n",
    "Add <font color=green>colors</font> with <font color=\"purple\">HTML</font>"
   ]
  },
  {
   "cell_type": "markdown",
   "metadata": {},
   "source": [
    "## Lists\n",
    "\n",
    "###### <font color=red>_RAW MARKDOWN_</font>\n",
    "\n",
    "```\n",
    "[ ] Thing one\n",
    "[ ] THing two\n",
    "\n",
    "+ I like wombats!\n",
    "+ Markdown is fun\n",
    "    - Use with Jupyter\n",
    "    - Use with Github\n",
    "+ Let's make pancakes\n",
    "\n",
    "\n",
    "1. foo\n",
    "1. bar\n",
    "    1. spam\n",
    "    1. ham\n",
    "    1. toast\n",
    "1. blah\n",
    "```\n",
    "\n",
    "###### <font color=red>_AS RENDERED_</font>\n",
    "\n",
    "[ ] Thing one\n",
    "[ ] THing two\n",
    "\n",
    "+ I like wombats!\n",
    "+ Markdown is fun\n",
    "    - Use with Jupyter\n",
    "    - Use with Github\n",
    "+ Let's make pancakes\n",
    "\n",
    "\n",
    "1. foo\n",
    "1. bar\n",
    "    1. spam\n",
    "    1. ham\n",
    "    1. toast\n",
    "1. blah\n"
   ]
  },
  {
   "cell_type": "markdown",
   "metadata": {},
   "source": [
    "## Code\n",
    "\n",
    "###### <font color=red>_RAW MARKDOWN_</font>\n",
    "\n",
    "### Simple code block\n",
    "\n",
    "Indent code 4 spaces\n",
    "\n",
    "```\n",
    "    for i in range(1, 11):\n",
    "        print(i)\n",
    "```\n",
    "\n",
    "### Inline code\n",
    "\n",
    "```\n",
    "Use `STR.upper()` to get an uppercase string. \n",
    "```\n",
    "\n",
    "###### <font color=red>_AS RENDERED_</font>\n",
    "\n",
    "\n",
    "    for i in range(1, 11):\n",
    "        print(i)\n",
    "\n",
    "Use `STR.upper()` to get an uppercase string. \n",
    "\n",
    "### Code block with highlighting\n",
    "Use three backticks before and after code; put language name after opening backticks.\n",
    "\n",
    "```python\n",
    "class Dog:\n",
    "    def bark(self):\n",
    "        print(\"Woof! Woof!\")\n",
    "```"
   ]
  },
  {
   "cell_type": "markdown",
   "metadata": {},
   "source": [
    "## Quotes\n",
    "\n",
    "###### <font color=red>_RAW MARKDOWN_</font>\n",
    "```\n",
    ">Never get in a land war with china\n",
    "> \n",
    ">-- Vizzini\n",
    "```\n",
    "\n",
    "###### <font color=red>_AS RENDERED_</font>\n",
    ">Never get in a land war with china\n",
    "> \n",
    ">-- Vizzini\n",
    " "
   ]
  },
  {
   "cell_type": "markdown",
   "metadata": {},
   "source": [
    "## Horizontal rule \n",
    "###### <font color=red>_RAW MARKDOWN_</font>\n",
    "```\n",
    "----\n",
    "```\n",
    "###### <font color=red>_AS RENDERED_</font>\n",
    "----"
   ]
  },
  {
   "cell_type": "markdown",
   "metadata": {},
   "source": [
    "## Links\n",
    "###### <font color=red>_RAW MARKDOWN_</font>\n",
    "```\n",
    "[Python Homepage](http://www.python.org)\n",
    "```\n",
    "###### <font color=red>_AS RENDERED_</font>\n",
    "[Python Homepage](http://www.python.org)"
   ]
  },
  {
   "cell_type": "markdown",
   "metadata": {},
   "source": [
    "## Images\n",
    "###### <font color=red>_RAW MARKDOWN_</font>\n",
    "```\n",
    "![Tim the Enchanter](images/tim.jpg)\n",
    "```\n",
    "###### <font color=red>_AS RENDERED_</font>\n",
    "![Tim the Enchanter](images/tim.jpg)"
   ]
  },
  {
   "cell_type": "markdown",
   "metadata": {},
   "source": [
    "## Table\n",
    "###### <font color=red>_RAW MARKDOWN_</font>\n",
    "```\n",
    "|State|Capital|\n",
    "|----|----|\n",
    "|Alaska|Juneau|\n",
    "|North Carolina|Raleigh|\n",
    "|Minnesota|St. Paul|\n",
    "```\n",
    "###### <font color=red>_AS RENDERED_</font>\n",
    "|State|Capital|\n",
    "|----|----|\n",
    "|Alaska|Juneau|\n",
    "|North Carolina|Raleigh|\n",
    "|Minnesota|St. Paul|\n"
   ]
  },
  {
   "cell_type": "markdown",
   "metadata": {},
   "source": [
    "## Strikethrough\n",
    "###### <font color=red>_RAW MARKDOWN_</font>\n",
    "```\n",
    "This is ~~a test~~ real\n",
    "```\n",
    "###### <font color=red>_AS RENDERED_</font>\n",
    "This is ~~a test~~ real"
   ]
  },
  {
   "cell_type": "markdown",
   "metadata": {},
   "source": [
    "## Task list\n",
    "###### <font color=red>_RAW MARKDOWN_</font>\n",
    "```\n",
    "- [x] First item\n",
    "- [ ] Second item\n",
    "- [ ] Third item\n",
    "```\n",
    "###### <font color=red>_AS RENDERED_</font>\n",
    "\n",
    "- [x] First item\n",
    "- [ ] Second item\n",
    "- [ ] Third item"
   ]
  },
  {
   "cell_type": "markdown",
   "metadata": {},
   "source": [
    "## Math Symbols (LaTeX)\n",
    "Use LaTeX codes between dollar signs\n",
    "\n",
    "###### <font color=red>_RAW MARKDOWN_</font>\n",
    "```\n",
    "$\\rho$, $\\rho$, $\\rho$ your boat\n",
    "\n",
    "$\\mathbf{V}_1 \\times \\mathbf{V}_2 =  \\begin{vmatrix} \\\n",
    "\\mathbf{i} & \\mathbf{j} & \\mathbf{k}  \\\\\n",
    "\\frac{\\partial X}{\\partial u} & \\frac{\\partial Y}{\\partial u} & 0\\\\\n",
    "\\frac{\\partial X}{\\partial v} & \\frac{\\partial Y}{\\partial v} & 0\\\\\n",
    "\\end{vmatrix}$ \n",
    "```\n",
    "\n",
    "###### <font color=red>_AS RENDERED_</font>\n",
    "\n",
    "$\\rho$, $\\rho$, $\\rho$ your boat\n",
    "\n",
    "$\\mathbf{V}_1 \\times \\mathbf{V}_2 =  \\begin{vmatrix} \\\n",
    "\\mathbf{i} & \\mathbf{j} & \\mathbf{k}  \\\\\n",
    "\\frac{\\partial X}{\\partial u} & \\frac{\\partial Y}{\\partial u} & 0\\\\\n",
    "\\frac{\\partial X}{\\partial v} & \\frac{\\partial Y}{\\partial v} & 0\\\\\n",
    "\\end{vmatrix}$ \n",
    "\n"
   ]
  },
  {
   "cell_type": "code",
   "execution_count": null,
   "metadata": {},
   "outputs": [],
   "source": []
  }
 ],
 "metadata": {
  "kernelspec": {
<<<<<<< HEAD
   "display_name": "Python 3 (ipykernel)",
=======
   "display_name": "Python 3",
>>>>>>> 3c7dd97b72ef11fa95131403a1aac71a96e58d22
   "language": "python",
   "name": "python3"
  },
  "language_info": {
   "codemirror_mode": {
    "name": "ipython",
    "version": 3
   },
   "file_extension": ".py",
   "mimetype": "text/x-python",
   "name": "python",
   "nbconvert_exporter": "python",
   "pygments_lexer": "ipython3",
<<<<<<< HEAD
   "version": "3.9.12"
=======
   "version": "3.7.6"
>>>>>>> 3c7dd97b72ef11fa95131403a1aac71a96e58d22
  }
 },
 "nbformat": 4,
 "nbformat_minor": 2
}
